{
 "cells": [
  {
   "cell_type": "markdown",
   "id": "60c2b5cc",
   "metadata": {},
   "source": [
    "# Import Libraries"
   ]
  },
  {
   "cell_type": "code",
   "execution_count": 1,
   "id": "29ac6fda",
   "metadata": {},
   "outputs": [],
   "source": [
    "import pandas as pd\n",
    "import numpy as np\n"
   ]
  },
  {
   "cell_type": "markdown",
   "id": "daeb316e",
   "metadata": {},
   "source": [
    "# Generating a data set"
   ]
  },
  {
   "cell_type": "code",
   "execution_count": 2,
   "id": "0237cfa3",
   "metadata": {},
   "outputs": [],
   "source": [
    "data={'Name': [\"Ali\", \"Majid\", \"Saqib\", \"Aslam\", \"Imran\", \"Elsa\"],\n",
    "     'Age':[13, 14, 17, 16, 14, 19],\n",
    "     'Gender':['M', 'M', 'M', 'M', 'M', 'F'],\n",
    "     'Marks': [90, 70, 59, 'NaN', 89, 'Nan']}"
   ]
  },
  {
   "cell_type": "markdown",
   "id": "4fcd1d0c",
   "metadata": {},
   "source": [
    "# Converting to data frame "
   ]
  },
  {
   "cell_type": "code",
   "execution_count": 3,
   "id": "5447007e",
   "metadata": {},
   "outputs": [],
   "source": [
    "df=pd.DataFrame(data)"
   ]
  },
  {
   "cell_type": "code",
   "execution_count": 4,
   "id": "0ad9695a",
   "metadata": {},
   "outputs": [
    {
     "data": {
      "text/html": [
       "<div>\n",
       "<style scoped>\n",
       "    .dataframe tbody tr th:only-of-type {\n",
       "        vertical-align: middle;\n",
       "    }\n",
       "\n",
       "    .dataframe tbody tr th {\n",
       "        vertical-align: top;\n",
       "    }\n",
       "\n",
       "    .dataframe thead th {\n",
       "        text-align: right;\n",
       "    }\n",
       "</style>\n",
       "<table border=\"1\" class=\"dataframe\">\n",
       "  <thead>\n",
       "    <tr style=\"text-align: right;\">\n",
       "      <th></th>\n",
       "      <th>Name</th>\n",
       "      <th>Age</th>\n",
       "      <th>Gender</th>\n",
       "      <th>Marks</th>\n",
       "    </tr>\n",
       "  </thead>\n",
       "  <tbody>\n",
       "    <tr>\n",
       "      <th>0</th>\n",
       "      <td>Ali</td>\n",
       "      <td>13</td>\n",
       "      <td>M</td>\n",
       "      <td>90</td>\n",
       "    </tr>\n",
       "    <tr>\n",
       "      <th>1</th>\n",
       "      <td>Majid</td>\n",
       "      <td>14</td>\n",
       "      <td>M</td>\n",
       "      <td>70</td>\n",
       "    </tr>\n",
       "    <tr>\n",
       "      <th>2</th>\n",
       "      <td>Saqib</td>\n",
       "      <td>17</td>\n",
       "      <td>M</td>\n",
       "      <td>59</td>\n",
       "    </tr>\n",
       "    <tr>\n",
       "      <th>3</th>\n",
       "      <td>Aslam</td>\n",
       "      <td>16</td>\n",
       "      <td>M</td>\n",
       "      <td>NaN</td>\n",
       "    </tr>\n",
       "    <tr>\n",
       "      <th>4</th>\n",
       "      <td>Imran</td>\n",
       "      <td>14</td>\n",
       "      <td>M</td>\n",
       "      <td>89</td>\n",
       "    </tr>\n",
       "    <tr>\n",
       "      <th>5</th>\n",
       "      <td>Elsa</td>\n",
       "      <td>19</td>\n",
       "      <td>F</td>\n",
       "      <td>Nan</td>\n",
       "    </tr>\n",
       "  </tbody>\n",
       "</table>\n",
       "</div>"
      ],
      "text/plain": [
       "    Name  Age Gender Marks\n",
       "0    Ali   13      M    90\n",
       "1  Majid   14      M    70\n",
       "2  Saqib   17      M    59\n",
       "3  Aslam   16      M   NaN\n",
       "4  Imran   14      M    89\n",
       "5   Elsa   19      F   Nan"
      ]
     },
     "execution_count": 4,
     "metadata": {},
     "output_type": "execute_result"
    }
   ],
   "source": [
    "df"
   ]
  },
  {
   "cell_type": "markdown",
   "id": "5f829e85",
   "metadata": {},
   "source": [
    "# Data Assessment"
   ]
  },
  {
   "cell_type": "code",
   "execution_count": 11,
   "id": "4fc8f68b",
   "metadata": {},
   "outputs": [
    {
     "data": {
      "text/plain": [
       "Name      object\n",
       "Age        int64\n",
       "Gender    object\n",
       "Marks     object\n",
       "dtype: object"
      ]
     },
     "execution_count": 11,
     "metadata": {},
     "output_type": "execute_result"
    }
   ],
   "source": [
    "df.dtypes"
   ]
  },
  {
   "cell_type": "code",
   "execution_count": 13,
   "id": "a03bf78a",
   "metadata": {},
   "outputs": [
    {
     "data": {
      "text/plain": [
       "(6, 4)"
      ]
     },
     "execution_count": 13,
     "metadata": {},
     "output_type": "execute_result"
    }
   ],
   "source": [
    "df.shape"
   ]
  },
  {
   "cell_type": "code",
   "execution_count": 16,
   "id": "e9a8996c",
   "metadata": {},
   "outputs": [
    {
     "data": {
      "text/html": [
       "<div>\n",
       "<style scoped>\n",
       "    .dataframe tbody tr th:only-of-type {\n",
       "        vertical-align: middle;\n",
       "    }\n",
       "\n",
       "    .dataframe tbody tr th {\n",
       "        vertical-align: top;\n",
       "    }\n",
       "\n",
       "    .dataframe thead th {\n",
       "        text-align: right;\n",
       "    }\n",
       "</style>\n",
       "<table border=\"1\" class=\"dataframe\">\n",
       "  <thead>\n",
       "    <tr style=\"text-align: right;\">\n",
       "      <th></th>\n",
       "      <th>Name</th>\n",
       "      <th>Age</th>\n",
       "      <th>Gender</th>\n",
       "      <th>Marks</th>\n",
       "    </tr>\n",
       "  </thead>\n",
       "  <tbody>\n",
       "    <tr>\n",
       "      <th>0</th>\n",
       "      <td>Ali</td>\n",
       "      <td>13</td>\n",
       "      <td>M</td>\n",
       "      <td>90</td>\n",
       "    </tr>\n",
       "    <tr>\n",
       "      <th>1</th>\n",
       "      <td>Majid</td>\n",
       "      <td>14</td>\n",
       "      <td>M</td>\n",
       "      <td>70</td>\n",
       "    </tr>\n",
       "  </tbody>\n",
       "</table>\n",
       "</div>"
      ],
      "text/plain": [
       "    Name  Age Gender Marks\n",
       "0    Ali   13      M    90\n",
       "1  Majid   14      M    70"
      ]
     },
     "execution_count": 16,
     "metadata": {},
     "output_type": "execute_result"
    }
   ],
   "source": [
    "df.head(2)"
   ]
  },
  {
   "cell_type": "code",
   "execution_count": 17,
   "id": "812e76da",
   "metadata": {},
   "outputs": [
    {
     "data": {
      "text/html": [
       "<div>\n",
       "<style scoped>\n",
       "    .dataframe tbody tr th:only-of-type {\n",
       "        vertical-align: middle;\n",
       "    }\n",
       "\n",
       "    .dataframe tbody tr th {\n",
       "        vertical-align: top;\n",
       "    }\n",
       "\n",
       "    .dataframe thead th {\n",
       "        text-align: right;\n",
       "    }\n",
       "</style>\n",
       "<table border=\"1\" class=\"dataframe\">\n",
       "  <thead>\n",
       "    <tr style=\"text-align: right;\">\n",
       "      <th></th>\n",
       "      <th>Name</th>\n",
       "      <th>Age</th>\n",
       "      <th>Gender</th>\n",
       "      <th>Marks</th>\n",
       "    </tr>\n",
       "  </thead>\n",
       "  <tbody>\n",
       "    <tr>\n",
       "      <th>4</th>\n",
       "      <td>Imran</td>\n",
       "      <td>14</td>\n",
       "      <td>M</td>\n",
       "      <td>89</td>\n",
       "    </tr>\n",
       "    <tr>\n",
       "      <th>5</th>\n",
       "      <td>Elsa</td>\n",
       "      <td>19</td>\n",
       "      <td>F</td>\n",
       "      <td>Nan</td>\n",
       "    </tr>\n",
       "  </tbody>\n",
       "</table>\n",
       "</div>"
      ],
      "text/plain": [
       "    Name  Age Gender Marks\n",
       "4  Imran   14      M    89\n",
       "5   Elsa   19      F   Nan"
      ]
     },
     "execution_count": 17,
     "metadata": {},
     "output_type": "execute_result"
    }
   ],
   "source": [
    "df.tail(2)"
   ]
  },
  {
   "cell_type": "code",
   "execution_count": 21,
   "id": "079461ad",
   "metadata": {},
   "outputs": [
    {
     "data": {
      "text/html": [
       "<div>\n",
       "<style scoped>\n",
       "    .dataframe tbody tr th:only-of-type {\n",
       "        vertical-align: middle;\n",
       "    }\n",
       "\n",
       "    .dataframe tbody tr th {\n",
       "        vertical-align: top;\n",
       "    }\n",
       "\n",
       "    .dataframe thead th {\n",
       "        text-align: right;\n",
       "    }\n",
       "</style>\n",
       "<table border=\"1\" class=\"dataframe\">\n",
       "  <thead>\n",
       "    <tr style=\"text-align: right;\">\n",
       "      <th></th>\n",
       "      <th>Name</th>\n",
       "      <th>Age</th>\n",
       "      <th>Gender</th>\n",
       "      <th>Marks</th>\n",
       "    </tr>\n",
       "  </thead>\n",
       "  <tbody>\n",
       "    <tr>\n",
       "      <th>3</th>\n",
       "      <td>Aslam</td>\n",
       "      <td>16</td>\n",
       "      <td>M</td>\n",
       "      <td>NaN</td>\n",
       "    </tr>\n",
       "  </tbody>\n",
       "</table>\n",
       "</div>"
      ],
      "text/plain": [
       "    Name  Age Gender Marks\n",
       "3  Aslam   16      M   NaN"
      ]
     },
     "execution_count": 21,
     "metadata": {},
     "output_type": "execute_result"
    }
   ],
   "source": [
    "df.sample()"
   ]
  },
  {
   "cell_type": "code",
   "execution_count": 23,
   "id": "bc13f069",
   "metadata": {},
   "outputs": [
    {
     "name": "stdout",
     "output_type": "stream",
     "text": [
      "<class 'pandas.core.frame.DataFrame'>\n",
      "RangeIndex: 6 entries, 0 to 5\n",
      "Data columns (total 4 columns):\n",
      " #   Column  Non-Null Count  Dtype \n",
      "---  ------  --------------  ----- \n",
      " 0   Name    6 non-null      object\n",
      " 1   Age     6 non-null      int64 \n",
      " 2   Gender  6 non-null      object\n",
      " 3   Marks   6 non-null      object\n",
      "dtypes: int64(1), object(3)\n",
      "memory usage: 320.0+ bytes\n"
     ]
    }
   ],
   "source": [
    "df.info()"
   ]
  },
  {
   "cell_type": "markdown",
   "id": "495db59c",
   "metadata": {},
   "source": [
    "# Cleaning"
   ]
  },
  {
   "cell_type": "code",
   "execution_count": 26,
   "id": "2b4e5449",
   "metadata": {},
   "outputs": [],
   "source": [
    "new_df=df.replace('Nan', np.nan)"
   ]
  },
  {
   "cell_type": "code",
   "execution_count": 28,
   "id": "707fbd0b",
   "metadata": {},
   "outputs": [
    {
     "data": {
      "text/html": [
       "<div>\n",
       "<style scoped>\n",
       "    .dataframe tbody tr th:only-of-type {\n",
       "        vertical-align: middle;\n",
       "    }\n",
       "\n",
       "    .dataframe tbody tr th {\n",
       "        vertical-align: top;\n",
       "    }\n",
       "\n",
       "    .dataframe thead th {\n",
       "        text-align: right;\n",
       "    }\n",
       "</style>\n",
       "<table border=\"1\" class=\"dataframe\">\n",
       "  <thead>\n",
       "    <tr style=\"text-align: right;\">\n",
       "      <th></th>\n",
       "      <th>Name</th>\n",
       "      <th>Age</th>\n",
       "      <th>Gender</th>\n",
       "      <th>Marks</th>\n",
       "    </tr>\n",
       "  </thead>\n",
       "  <tbody>\n",
       "    <tr>\n",
       "      <th>0</th>\n",
       "      <td>Ali</td>\n",
       "      <td>13</td>\n",
       "      <td>M</td>\n",
       "      <td>90</td>\n",
       "    </tr>\n",
       "    <tr>\n",
       "      <th>1</th>\n",
       "      <td>Majid</td>\n",
       "      <td>14</td>\n",
       "      <td>M</td>\n",
       "      <td>70</td>\n",
       "    </tr>\n",
       "    <tr>\n",
       "      <th>2</th>\n",
       "      <td>Saqib</td>\n",
       "      <td>17</td>\n",
       "      <td>M</td>\n",
       "      <td>59</td>\n",
       "    </tr>\n",
       "    <tr>\n",
       "      <th>3</th>\n",
       "      <td>Aslam</td>\n",
       "      <td>16</td>\n",
       "      <td>M</td>\n",
       "      <td>NaN</td>\n",
       "    </tr>\n",
       "    <tr>\n",
       "      <th>4</th>\n",
       "      <td>Imran</td>\n",
       "      <td>14</td>\n",
       "      <td>M</td>\n",
       "      <td>89</td>\n",
       "    </tr>\n",
       "    <tr>\n",
       "      <th>5</th>\n",
       "      <td>Elsa</td>\n",
       "      <td>19</td>\n",
       "      <td>F</td>\n",
       "      <td>NaN</td>\n",
       "    </tr>\n",
       "  </tbody>\n",
       "</table>\n",
       "</div>"
      ],
      "text/plain": [
       "    Name  Age Gender Marks\n",
       "0    Ali   13      M    90\n",
       "1  Majid   14      M    70\n",
       "2  Saqib   17      M    59\n",
       "3  Aslam   16      M   NaN\n",
       "4  Imran   14      M    89\n",
       "5   Elsa   19      F   NaN"
      ]
     },
     "execution_count": 28,
     "metadata": {},
     "output_type": "execute_result"
    }
   ],
   "source": [
    "new_df"
   ]
  },
  {
   "cell_type": "code",
   "execution_count": 30,
   "id": "7394b80a",
   "metadata": {},
   "outputs": [
    {
     "name": "stdout",
     "output_type": "stream",
     "text": [
      "<class 'pandas.core.frame.DataFrame'>\n",
      "RangeIndex: 6 entries, 0 to 5\n",
      "Data columns (total 4 columns):\n",
      " #   Column  Non-Null Count  Dtype \n",
      "---  ------  --------------  ----- \n",
      " 0   Name    6 non-null      object\n",
      " 1   Age     6 non-null      int64 \n",
      " 2   Gender  6 non-null      object\n",
      " 3   Marks   5 non-null      object\n",
      "dtypes: int64(1), object(3)\n",
      "memory usage: 320.0+ bytes\n"
     ]
    }
   ],
   "source": [
    "new_df.info()"
   ]
  },
  {
   "cell_type": "markdown",
   "id": "d5262ea2",
   "metadata": {},
   "source": [
    "# Now dealing with the missing value by taking the average of whole number"
   ]
  },
  {
   "cell_type": "code",
   "execution_count": 34,
   "id": "7d2c4e65",
   "metadata": {},
   "outputs": [],
   "source": [
    "c=avg=0\n",
    "for ele in df['Marks']:\n",
    "    if str(ele).isnumeric():\n",
    "        c+=1\n",
    "        avg+=ele\n",
    "avg /=c"
   ]
  },
  {
   "cell_type": "markdown",
   "id": "28ba4bf2",
   "metadata": {},
   "source": [
    "# Replace Missing Value"
   ]
  },
  {
   "cell_type": "code",
   "execution_count": 40,
   "id": "8d3302cf",
   "metadata": {},
   "outputs": [],
   "source": [
    "df=df.replace(to_replace='NaN', value=avg)"
   ]
  },
  {
   "cell_type": "code",
   "execution_count": 41,
   "id": "6ce5a48e",
   "metadata": {},
   "outputs": [
    {
     "data": {
      "text/html": [
       "<div>\n",
       "<style scoped>\n",
       "    .dataframe tbody tr th:only-of-type {\n",
       "        vertical-align: middle;\n",
       "    }\n",
       "\n",
       "    .dataframe tbody tr th {\n",
       "        vertical-align: top;\n",
       "    }\n",
       "\n",
       "    .dataframe thead th {\n",
       "        text-align: right;\n",
       "    }\n",
       "</style>\n",
       "<table border=\"1\" class=\"dataframe\">\n",
       "  <thead>\n",
       "    <tr style=\"text-align: right;\">\n",
       "      <th></th>\n",
       "      <th>Name</th>\n",
       "      <th>Age</th>\n",
       "      <th>Gender</th>\n",
       "      <th>Marks</th>\n",
       "    </tr>\n",
       "  </thead>\n",
       "  <tbody>\n",
       "    <tr>\n",
       "      <th>0</th>\n",
       "      <td>Ali</td>\n",
       "      <td>13</td>\n",
       "      <td>M</td>\n",
       "      <td>90.0</td>\n",
       "    </tr>\n",
       "    <tr>\n",
       "      <th>1</th>\n",
       "      <td>Majid</td>\n",
       "      <td>14</td>\n",
       "      <td>M</td>\n",
       "      <td>70.0</td>\n",
       "    </tr>\n",
       "    <tr>\n",
       "      <th>2</th>\n",
       "      <td>Saqib</td>\n",
       "      <td>17</td>\n",
       "      <td>M</td>\n",
       "      <td>59.0</td>\n",
       "    </tr>\n",
       "    <tr>\n",
       "      <th>3</th>\n",
       "      <td>Aslam</td>\n",
       "      <td>16</td>\n",
       "      <td>M</td>\n",
       "      <td>77.0</td>\n",
       "    </tr>\n",
       "    <tr>\n",
       "      <th>4</th>\n",
       "      <td>Imran</td>\n",
       "      <td>14</td>\n",
       "      <td>M</td>\n",
       "      <td>89.0</td>\n",
       "    </tr>\n",
       "    <tr>\n",
       "      <th>5</th>\n",
       "      <td>Elsa</td>\n",
       "      <td>19</td>\n",
       "      <td>F</td>\n",
       "      <td>77.0</td>\n",
       "    </tr>\n",
       "  </tbody>\n",
       "</table>\n",
       "</div>"
      ],
      "text/plain": [
       "    Name  Age Gender  Marks\n",
       "0    Ali   13      M   90.0\n",
       "1  Majid   14      M   70.0\n",
       "2  Saqib   17      M   59.0\n",
       "3  Aslam   16      M   77.0\n",
       "4  Imran   14      M   89.0\n",
       "5   Elsa   19      F   77.0"
      ]
     },
     "execution_count": 41,
     "metadata": {},
     "output_type": "execute_result"
    }
   ],
   "source": [
    "df"
   ]
  },
  {
   "cell_type": "markdown",
   "id": "c7146403",
   "metadata": {},
   "source": [
    "# Mean of Data"
   ]
  },
  {
   "cell_type": "code",
   "execution_count": 49,
   "id": "b19abfdd",
   "metadata": {},
   "outputs": [
    {
     "name": "stderr",
     "output_type": "stream",
     "text": [
      "C:\\Users\\AL MADINA COMPUTER\\AppData\\Local\\Temp\\ipykernel_8188\\2833669844.py:1: FutureWarning: Dropping of nuisance columns in DataFrame reductions (with 'numeric_only=None') is deprecated; in a future version this will raise TypeError.  Select only valid columns before calling the reduction.\n",
      "  df.mean()      #mean off all columns\n"
     ]
    },
    {
     "data": {
      "text/plain": [
       "Age      15.5\n",
       "Marks    77.0\n",
       "dtype: float64"
      ]
     },
     "execution_count": 49,
     "metadata": {},
     "output_type": "execute_result"
    }
   ],
   "source": [
    "df.mean()      #mean off all columns"
   ]
  },
  {
   "cell_type": "code",
   "execution_count": 50,
   "id": "84f0a386",
   "metadata": {},
   "outputs": [
    {
     "data": {
      "text/plain": [
       "15.5"
      ]
     },
     "execution_count": 50,
     "metadata": {},
     "output_type": "execute_result"
    }
   ],
   "source": [
    "df['Age'].mean()     #mean of one specific column"
   ]
  },
  {
   "cell_type": "code",
   "execution_count": 52,
   "id": "c083e725",
   "metadata": {},
   "outputs": [
    {
     "data": {
      "text/plain": [
       "Age      15.5\n",
       "Marks    77.0\n",
       "dtype: float64"
      ]
     },
     "execution_count": 52,
     "metadata": {},
     "output_type": "execute_result"
    }
   ],
   "source": [
    "df[['Age', 'Marks']].mean()   #mean of more than one columns"
   ]
  },
  {
   "cell_type": "code",
   "execution_count": 54,
   "id": "79507c5f",
   "metadata": {},
   "outputs": [
    {
     "name": "stderr",
     "output_type": "stream",
     "text": [
      "C:\\Users\\AL MADINA COMPUTER\\AppData\\Local\\Temp\\ipykernel_8188\\3676274908.py:1: FutureWarning: Dropping of nuisance columns in DataFrame reductions (with 'numeric_only=None') is deprecated; in a future version this will raise TypeError.  Select only valid columns before calling the reduction.\n",
      "  df.mean(axis=1)\n"
     ]
    },
    {
     "data": {
      "text/plain": [
       "0    51.5\n",
       "1    42.0\n",
       "2    38.0\n",
       "3    46.5\n",
       "4    51.5\n",
       "5    48.0\n",
       "dtype: float64"
      ]
     },
     "execution_count": 54,
     "metadata": {},
     "output_type": "execute_result"
    }
   ],
   "source": [
    "df.mean(axis=1)    #mean by column or rows,   axis=1 represent rows and axis=0 represent columns"
   ]
  },
  {
   "cell_type": "markdown",
   "id": "5937f4b9",
   "metadata": {},
   "source": [
    "# Reshaping the data"
   ]
  },
  {
   "cell_type": "code",
   "execution_count": 56,
   "id": "0f0fdcf7",
   "metadata": {},
   "outputs": [
    {
     "data": {
      "text/plain": [
       "0    0\n",
       "1    0\n",
       "2    0\n",
       "3    0\n",
       "4    0\n",
       "5    1\n",
       "Name: Gender, dtype: int64"
      ]
     },
     "execution_count": 56,
     "metadata": {},
     "output_type": "execute_result"
    }
   ],
   "source": [
    "df['Gender'].map({'M':0, 'F':1})          #represent te gender in 0 and 1 format"
   ]
  },
  {
   "cell_type": "code",
   "execution_count": 58,
   "id": "172d045e",
   "metadata": {},
   "outputs": [],
   "source": [
    "df['Gender']=df['Gender'].map({'M':0, 'F':1}).astype(float)"
   ]
  },
  {
   "cell_type": "code",
   "execution_count": 60,
   "id": "ec9e75ed",
   "metadata": {},
   "outputs": [
    {
     "data": {
      "text/plain": [
       "Name       object\n",
       "Age         int64\n",
       "Gender    float64\n",
       "Marks     float64\n",
       "dtype: object"
      ]
     },
     "execution_count": 60,
     "metadata": {},
     "output_type": "execute_result"
    }
   ],
   "source": [
    "df.dtypes"
   ]
  },
  {
   "cell_type": "markdown",
   "id": "49aeef05",
   "metadata": {},
   "source": [
    "# Filtering"
   ]
  },
  {
   "cell_type": "code",
   "execution_count": 65,
   "id": "29500a2e",
   "metadata": {},
   "outputs": [],
   "source": [
    "high_std=df[df['Marks']>=80]"
   ]
  },
  {
   "cell_type": "code",
   "execution_count": 68,
   "id": "5a2e2d4d",
   "metadata": {},
   "outputs": [
    {
     "data": {
      "text/html": [
       "<div>\n",
       "<style scoped>\n",
       "    .dataframe tbody tr th:only-of-type {\n",
       "        vertical-align: middle;\n",
       "    }\n",
       "\n",
       "    .dataframe tbody tr th {\n",
       "        vertical-align: top;\n",
       "    }\n",
       "\n",
       "    .dataframe thead th {\n",
       "        text-align: right;\n",
       "    }\n",
       "</style>\n",
       "<table border=\"1\" class=\"dataframe\">\n",
       "  <thead>\n",
       "    <tr style=\"text-align: right;\">\n",
       "      <th></th>\n",
       "      <th>Name</th>\n",
       "      <th>Age</th>\n",
       "      <th>Gender</th>\n",
       "      <th>Marks</th>\n",
       "    </tr>\n",
       "  </thead>\n",
       "  <tbody>\n",
       "    <tr>\n",
       "      <th>0</th>\n",
       "      <td>Ali</td>\n",
       "      <td>13</td>\n",
       "      <td>NaN</td>\n",
       "      <td>90.0</td>\n",
       "    </tr>\n",
       "    <tr>\n",
       "      <th>4</th>\n",
       "      <td>Imran</td>\n",
       "      <td>14</td>\n",
       "      <td>NaN</td>\n",
       "      <td>89.0</td>\n",
       "    </tr>\n",
       "  </tbody>\n",
       "</table>\n",
       "</div>"
      ],
      "text/plain": [
       "    Name  Age  Gender  Marks\n",
       "0    Ali   13     NaN   90.0\n",
       "4  Imran   14     NaN   89.0"
      ]
     },
     "execution_count": 68,
     "metadata": {},
     "output_type": "execute_result"
    }
   ],
   "source": [
    "high_std"
   ]
  },
  {
   "cell_type": "markdown",
   "id": "98de46d2",
   "metadata": {},
   "source": [
    "# Delet and Dropping Column"
   ]
  },
  {
   "cell_type": "code",
   "execution_count": 73,
   "id": "1b5d2c25",
   "metadata": {},
   "outputs": [],
   "source": [
    "new_drop=df.drop(['Gender', 'Age'], axis=1)     #droping of columns"
   ]
  },
  {
   "cell_type": "code",
   "execution_count": 74,
   "id": "a7956cd6",
   "metadata": {},
   "outputs": [],
   "source": [
    "new_drop=df.drop([0,4], axis=0)       #dropping of rows"
   ]
  },
  {
   "cell_type": "code",
   "execution_count": 76,
   "id": "680a9b19",
   "metadata": {},
   "outputs": [
    {
     "data": {
      "text/html": [
       "<div>\n",
       "<style scoped>\n",
       "    .dataframe tbody tr th:only-of-type {\n",
       "        vertical-align: middle;\n",
       "    }\n",
       "\n",
       "    .dataframe tbody tr th {\n",
       "        vertical-align: top;\n",
       "    }\n",
       "\n",
       "    .dataframe thead th {\n",
       "        text-align: right;\n",
       "    }\n",
       "</style>\n",
       "<table border=\"1\" class=\"dataframe\">\n",
       "  <thead>\n",
       "    <tr style=\"text-align: right;\">\n",
       "      <th></th>\n",
       "      <th>Name</th>\n",
       "      <th>Age</th>\n",
       "      <th>Gender</th>\n",
       "      <th>Marks</th>\n",
       "    </tr>\n",
       "  </thead>\n",
       "  <tbody>\n",
       "    <tr>\n",
       "      <th>1</th>\n",
       "      <td>Majid</td>\n",
       "      <td>14</td>\n",
       "      <td>NaN</td>\n",
       "      <td>70.0</td>\n",
       "    </tr>\n",
       "    <tr>\n",
       "      <th>2</th>\n",
       "      <td>Saqib</td>\n",
       "      <td>17</td>\n",
       "      <td>NaN</td>\n",
       "      <td>59.0</td>\n",
       "    </tr>\n",
       "    <tr>\n",
       "      <th>3</th>\n",
       "      <td>Aslam</td>\n",
       "      <td>16</td>\n",
       "      <td>NaN</td>\n",
       "      <td>77.0</td>\n",
       "    </tr>\n",
       "    <tr>\n",
       "      <th>5</th>\n",
       "      <td>Elsa</td>\n",
       "      <td>19</td>\n",
       "      <td>NaN</td>\n",
       "      <td>77.0</td>\n",
       "    </tr>\n",
       "  </tbody>\n",
       "</table>\n",
       "</div>"
      ],
      "text/plain": [
       "    Name  Age  Gender  Marks\n",
       "1  Majid   14     NaN   70.0\n",
       "2  Saqib   17     NaN   59.0\n",
       "3  Aslam   16     NaN   77.0\n",
       "5   Elsa   19     NaN   77.0"
      ]
     },
     "execution_count": 76,
     "metadata": {},
     "output_type": "execute_result"
    }
   ],
   "source": [
    "new_drop"
   ]
  },
  {
   "cell_type": "markdown",
   "id": "5be7ad49",
   "metadata": {},
   "source": [
    "# Creating a Series"
   ]
  },
  {
   "cell_type": "code",
   "execution_count": 79,
   "id": "b6a7994b",
   "metadata": {},
   "outputs": [
    {
     "name": "stdout",
     "output_type": "stream",
     "text": [
      "Series([], dtype: float64)\n"
     ]
    },
    {
     "name": "stderr",
     "output_type": "stream",
     "text": [
      "C:\\Users\\AL MADINA COMPUTER\\AppData\\Local\\Temp\\ipykernel_8188\\3268763758.py:1: FutureWarning: The default dtype for empty Series will be 'object' instead of 'float64' in a future version. Specify a dtype explicitly to silence this warning.\n",
      "  ser=pd.Series()\n"
     ]
    }
   ],
   "source": [
    "ser=pd.Series()\n",
    "print(ser)"
   ]
  },
  {
   "cell_type": "code",
   "execution_count": 81,
   "id": "7d016e55",
   "metadata": {},
   "outputs": [],
   "source": [
    "data=np.array(['a', 'e', 'i', 'o', 'u'])"
   ]
  },
  {
   "cell_type": "code",
   "execution_count": 82,
   "id": "585a9542",
   "metadata": {},
   "outputs": [],
   "source": [
    "ser=pd.Series(data)"
   ]
  },
  {
   "cell_type": "code",
   "execution_count": 84,
   "id": "2312a1f7",
   "metadata": {},
   "outputs": [
    {
     "data": {
      "text/plain": [
       "dtype('O')"
      ]
     },
     "execution_count": 84,
     "metadata": {},
     "output_type": "execute_result"
    }
   ],
   "source": [
    "ser.dtypes"
   ]
  },
  {
   "cell_type": "markdown",
   "id": "09fed1d0",
   "metadata": {},
   "source": [
    "# Creating a Data Frame"
   ]
  },
  {
   "cell_type": "code",
   "execution_count": 87,
   "id": "920df948",
   "metadata": {},
   "outputs": [
    {
     "name": "stdout",
     "output_type": "stream",
     "text": [
      "Empty DataFrame\n",
      "Columns: []\n",
      "Index: []\n"
     ]
    }
   ],
   "source": [
    "df=pd.DataFrame()\n",
    "print(df)"
   ]
  },
  {
   "cell_type": "code",
   "execution_count": 89,
   "id": "73506abf",
   "metadata": {},
   "outputs": [],
   "source": [
    "lst=['Data Frame', 'Is', 'A', 'Two', 'Dimensional', 'Data', 'Structure']"
   ]
  },
  {
   "cell_type": "code",
   "execution_count": 95,
   "id": "e1cfe56b",
   "metadata": {},
   "outputs": [],
   "source": [
    "df=pd.DataFrame(lst)"
   ]
  },
  {
   "cell_type": "code",
   "execution_count": 98,
   "id": "570663f2",
   "metadata": {},
   "outputs": [
    {
     "name": "stdout",
     "output_type": "stream",
     "text": [
      "             0\n",
      "0   Data Frame\n",
      "1           Is\n",
      "2            A\n",
      "3          Two\n",
      "4  Dimensional\n",
      "5         Data\n",
      "6    Structure\n"
     ]
    }
   ],
   "source": [
    "print(df)"
   ]
  },
  {
   "cell_type": "markdown",
   "id": "3355118d",
   "metadata": {},
   "source": [
    "# Reading CSV file "
   ]
  },
  {
   "cell_type": "code",
   "execution_count": null,
   "id": "aaae9520",
   "metadata": {},
   "outputs": [],
   "source": [
    "pd.read_csv(\"filename.csv\")"
   ]
  },
  {
   "cell_type": "markdown",
   "id": "6703f2f7",
   "metadata": {},
   "source": [
    "# Reading Excel File"
   ]
  },
  {
   "cell_type": "code",
   "execution_count": null,
   "id": "3728c8b1",
   "metadata": {},
   "outputs": [],
   "source": [
    "pd.read_eexcel(r'filedirectory / Filename.xlsx')"
   ]
  },
  {
   "cell_type": "markdown",
   "id": "3743dd1e",
   "metadata": {},
   "source": [
    "# Read JSON File"
   ]
  },
  {
   "cell_type": "code",
   "execution_count": null,
   "id": "235e859a",
   "metadata": {},
   "outputs": [],
   "source": [
    "df=pd.read_json('data.json')\n",
    "print(df.to_string())"
   ]
  },
  {
   "cell_type": "code",
   "execution_count": null,
   "id": "49aa0116",
   "metadata": {},
   "outputs": [],
   "source": [
    "data={\"JSON pattern}\n",
    "df.pd.DataFrame(data)"
   ]
  },
  {
   "cell_type": "markdown",
   "id": "00b1364b",
   "metadata": {},
   "source": [
    "# Read SQL Query"
   ]
  },
  {
   "cell_type": "code",
   "execution_count": null,
   "id": "2b9939d5",
   "metadata": {},
   "outputs": [],
   "source": [
    "imort pandas as pd     #importing pandas library\n",
    "from sqlite3 import connect   #connecting with database\n",
    "conn=connect(\"Stock.db\")   #creting a database\n",
    "data=pd.read_csv('Fb.csv')  \n",
    "data.to_sql(\"meta\".conn)\n",
    "df=pd.read_sql(\"select*From meta LIMIT 5\". conn)  #import pandas read_sql() method\n",
    "print(df)\n",
    "conn.close()    #closing of database"
   ]
  }
 ],
 "metadata": {
  "kernelspec": {
   "display_name": "Python 3 (ipykernel)",
   "language": "python",
   "name": "python3"
  },
  "language_info": {
   "codemirror_mode": {
    "name": "ipython",
    "version": 3
   },
   "file_extension": ".py",
   "mimetype": "text/x-python",
   "name": "python",
   "nbconvert_exporter": "python",
   "pygments_lexer": "ipython3",
   "version": "3.9.13"
  }
 },
 "nbformat": 4,
 "nbformat_minor": 5
}
